{
 "cells": [
  {
   "cell_type": "code",
   "execution_count": 1,
   "id": "d3cf4def",
   "metadata": {
    "_cell_guid": "b1076dfc-b9ad-4769-8c92-a6c4dae69d19",
    "_uuid": "8f2839f25d086af736a60e9eeb907d3b93b6e0e5",
    "execution": {
     "iopub.execute_input": "2022-12-19T01:27:55.725604Z",
     "iopub.status.busy": "2022-12-19T01:27:55.724885Z",
     "iopub.status.idle": "2022-12-19T01:27:57.661653Z",
     "shell.execute_reply": "2022-12-19T01:27:57.660417Z"
    },
    "papermill": {
     "duration": 1.945854,
     "end_time": "2022-12-19T01:27:57.664548",
     "exception": false,
     "start_time": "2022-12-19T01:27:55.718694",
     "status": "completed"
    },
    "tags": []
   },
   "outputs": [],
   "source": [
    "# This Python 3 environment comes with many helpful analytics libraries installed\n",
    "# It is defined by the kaggle/python Docker image: https://github.com/kaggle/docker-python\n",
    "# For example, here's several helpful packages to load\n",
    "\n",
    "import numpy as np # linear algebra\n",
    "import pandas as pd # data processing, CSV file I/O (e.g. pd.read_csv)\n",
    "from torchvision import models\n",
    "# Input data files are available in the read-only \"../input/\" directory\n",
    "# For example, running this (by clicking run or pressing Shift+Enter) will list all files under the input directory\n",
    "\n",
    "import os\n",
    "# for dirname, _, filenames in os.walk('/kaggle/input'):\n",
    "#     for filename in filenames:\n",
    "#         print(os.path.join(dirname, filename))\n",
    "\n",
    "# You can write up to 20GB to the current directory (/kaggle/working/) that gets preserved as output when you create a version using \"Save & Run All\" \n",
    "# You can also write temporary files to /kaggle/temp/, but they won't be saved outside of the current session"
   ]
  },
  {
   "cell_type": "code",
   "execution_count": 2,
   "id": "b6138048",
   "metadata": {
    "execution": {
     "iopub.execute_input": "2022-12-19T01:27:57.673308Z",
     "iopub.status.busy": "2022-12-19T01:27:57.672765Z",
     "iopub.status.idle": "2022-12-19T01:27:57.706134Z",
     "shell.execute_reply": "2022-12-19T01:27:57.705050Z"
    },
    "papermill": {
     "duration": 0.040726,
     "end_time": "2022-12-19T01:27:57.708569",
     "exception": false,
     "start_time": "2022-12-19T01:27:57.667843",
     "status": "completed"
    },
    "tags": []
   },
   "outputs": [],
   "source": [
    "import torch.nn as nn\n",
    "import torch\n",
    "import torch.nn.functional as F\n",
    "import torch.optim as optim\n",
    "\n",
    "class GoogLeNet(nn.Module):\n",
    "    def __init__(self, num_classes=1000, aux_logits=True, init_weights=False):\n",
    "        super(GoogLeNet, self).__init__()\n",
    "        self.aux_logits = aux_logits\n",
    "\n",
    "        self.conv1 = BasicConv2d(3, 64, kernel_size=7, stride=2, padding=3)\n",
    "        self.maxpool1 = nn.MaxPool2d(3, stride=2, ceil_mode=True)\n",
    "\n",
    "        self.conv2 = BasicConv2d(64, 64, kernel_size=1)\n",
    "        self.conv3 = BasicConv2d(64, 192, kernel_size=3, padding=1)\n",
    "        self.maxpool2 = nn.MaxPool2d(3, stride=2, ceil_mode=True)\n",
    "\n",
    "        self.inception3a = Inception(192, 64, 96, 128, 16, 32, 32)\n",
    "        self.inception3b = Inception(256, 128, 128, 192, 32, 96, 64)\n",
    "        self.maxpool3 = nn.MaxPool2d(3, stride=2, ceil_mode=True)\n",
    "\n",
    "        self.inception4a = Inception(480, 192, 96, 208, 16, 48, 64)\n",
    "        self.inception4b = Inception(512, 160, 112, 224, 24, 64, 64)\n",
    "        self.inception4c = Inception(512, 128, 128, 256, 24, 64, 64)\n",
    "        self.inception4d = Inception(512, 112, 144, 288, 32, 64, 64)\n",
    "        self.inception4e = Inception(528, 256, 160, 320, 32, 128, 128)\n",
    "        self.maxpool4 = nn.MaxPool2d(3, stride=2, ceil_mode=True)\n",
    "\n",
    "        self.inception5a = Inception(832, 256, 160, 320, 32, 128, 128)\n",
    "        self.inception5b = Inception(832, 384, 192, 384, 48, 128, 128)\n",
    "\n",
    "        if self.aux_logits:\n",
    "            self.aux1 = InceptionAux(512, num_classes)\n",
    "            self.aux2 = InceptionAux(528, num_classes)\n",
    "\n",
    "        self.avgpool = nn.AdaptiveAvgPool2d((1, 1))\n",
    "        self.dropout = nn.Dropout(0.4)\n",
    "        self.fc = nn.Linear(1024, num_classes)\n",
    "        if init_weights:\n",
    "            self._initialize_weights()\n",
    "\n",
    "    def forward(self, x):\n",
    "        # N x 3 x 224 x 224\n",
    "        x = self.conv1(x)\n",
    "        # N x 64 x 112 x 112\n",
    "        x = self.maxpool1(x)\n",
    "        # N x 64 x 56 x 56\n",
    "        x = self.conv2(x)\n",
    "        # N x 64 x 56 x 56\n",
    "        x = self.conv3(x)\n",
    "        # N x 192 x 56 x 56\n",
    "        x = self.maxpool2(x)\n",
    "\n",
    "        # N x 192 x 28 x 28\n",
    "        x = self.inception3a(x)\n",
    "        # N x 256 x 28 x 28\n",
    "        x = self.inception3b(x)\n",
    "        # N x 480 x 28 x 28\n",
    "        x = self.maxpool3(x)\n",
    "        # N x 480 x 14 x 14\n",
    "        x = self.inception4a(x)\n",
    "        # N x 512 x 14 x 14\n",
    "        if self.training and self.aux_logits:    # eval model lose this layer\n",
    "            aux1 = self.aux1(x)\n",
    "\n",
    "        x = self.inception4b(x)\n",
    "        # N x 512 x 14 x 14\n",
    "        x = self.inception4c(x)\n",
    "        # N x 512 x 14 x 14\n",
    "        x = self.inception4d(x)\n",
    "        # N x 528 x 14 x 14\n",
    "        if self.training and self.aux_logits:    # eval model lose this layer\n",
    "            aux2 = self.aux2(x)\n",
    "\n",
    "        x = self.inception4e(x)\n",
    "        # N x 832 x 14 x 14\n",
    "        x = self.maxpool4(x)\n",
    "        # N x 832 x 7 x 7\n",
    "        x = self.inception5a(x)\n",
    "        # N x 832 x 7 x 7\n",
    "        x = self.inception5b(x)\n",
    "        # N x 1024 x 7 x 7\n",
    "\n",
    "        x = self.avgpool(x)\n",
    "        # N x 1024 x 1 x 1\n",
    "        x = torch.flatten(x, 1)\n",
    "        # N x 1024\n",
    "        x = self.dropout(x)\n",
    "        x = self.fc(x)\n",
    "        # N x 1000 (num_classes)\n",
    "        if self.training and self.aux_logits:   # eval model lose this layer\n",
    "            return x, aux2, aux1\n",
    "        return x\n",
    "\n",
    "    def _initialize_weights(self):\n",
    "        for m in self.modules():\n",
    "            if isinstance(m, nn.Conv2d):\n",
    "                nn.init.kaiming_normal_(m.weight, mode='fan_out', nonlinearity='relu')\n",
    "                if m.bias is not None:\n",
    "                    nn.init.constant_(m.bias, 0)\n",
    "            elif isinstance(m, nn.Linear):\n",
    "                nn.init.normal_(m.weight, 0, 0.01)\n",
    "                nn.init.constant_(m.bias, 0)\n",
    "\n",
    "#inception结构\n",
    "class Inception(nn.Module):\n",
    "    def __init__(self, in_channels, ch1x1, ch3x3red, ch3x3, ch5x5red, ch5x5, pool_proj):\n",
    "        super(Inception, self).__init__()\n",
    "\n",
    "        self.branch1 = BasicConv2d(in_channels, ch1x1, kernel_size=1)\n",
    "\n",
    "        self.branch2 = nn.Sequential(\n",
    "            BasicConv2d(in_channels, ch3x3red, kernel_size=1),\n",
    "            BasicConv2d(ch3x3red, ch3x3, kernel_size=3, padding=1)   # 保证输出大小等于输入大小\n",
    "        )\n",
    "\n",
    "        self.branch3 = nn.Sequential(\n",
    "            BasicConv2d(in_channels, ch5x5red, kernel_size=1),\n",
    "            BasicConv2d(ch5x5red, ch5x5, kernel_size=5, padding=2)   # 保证输出大小等于输入大小\n",
    "        )\n",
    "\n",
    "        self.branch4 = nn.Sequential(\n",
    "            nn.MaxPool2d(kernel_size=3, stride=1, padding=1),\n",
    "            BasicConv2d(in_channels, pool_proj, kernel_size=1)\n",
    "        )\n",
    "\n",
    "    def forward(self, x):\n",
    "        branch1 = self.branch1(x)\n",
    "        branch2 = self.branch2(x)\n",
    "        branch3 = self.branch3(x)\n",
    "        branch4 = self.branch4(x)\n",
    "\n",
    "        outputs = [branch1, branch2, branch3, branch4]\n",
    "        return torch.cat(outputs, 1)\n",
    "\n",
    "#辅助分类器\n",
    "class InceptionAux(nn.Module):\n",
    "    def __init__(self, in_channels, num_classes):\n",
    "        super(InceptionAux, self).__init__()\n",
    "        self.averagePool = nn.AvgPool2d(kernel_size=5, stride=3)\n",
    "        self.conv = BasicConv2d(in_channels, 128, kernel_size=1)  # output[batch, 128, 4, 4]\n",
    "\n",
    "        self.fc1 = nn.Linear(2048, 1024)\n",
    "        self.fc2 = nn.Linear(1024, num_classes)\n",
    "\n",
    "    def forward(self, x):\n",
    "        # aux1: N x 512 x 14 x 14, aux2: N x 528 x 14 x 14\n",
    "        x = self.averagePool(x)\n",
    "        # aux1: N x 512 x 4 x 4, aux2: N x 528 x 4 x 4\n",
    "        x = self.conv(x)\n",
    "        # N x 128 x 4 x 4\n",
    "        x = torch.flatten(x, 1)\n",
    "        x = F.dropout(x, 0.5, training=self.training)\n",
    "        # N x 2048\n",
    "        x = F.relu(self.fc1(x), inplace=True)\n",
    "        x = F.dropout(x, 0.5, training=self.training)\n",
    "        # N x 1024\n",
    "        x = self.fc2(x)\n",
    "        # N x num_classes\n",
    "        return x\n",
    "\n",
    "\n",
    "class BasicConv2d(nn.Module):\n",
    "    def __init__(self, in_channels, out_channels, **kwargs):\n",
    "        super(BasicConv2d, self).__init__()\n",
    "        self.conv = nn.Conv2d(in_channels, out_channels, **kwargs)\n",
    "        self.relu = nn.ReLU(inplace=True)\n",
    "\n",
    "    def forward(self, x):\n",
    "        x = self.conv(x)\n",
    "        x = self.relu(x)\n",
    "        return x\n"
   ]
  },
  {
   "cell_type": "code",
   "execution_count": 3,
   "id": "bb1dcfc4",
   "metadata": {
    "execution": {
     "iopub.execute_input": "2022-12-19T01:27:57.716775Z",
     "iopub.status.busy": "2022-12-19T01:27:57.716325Z",
     "iopub.status.idle": "2022-12-19T01:27:57.724710Z",
     "shell.execute_reply": "2022-12-19T01:27:57.723699Z"
    },
    "papermill": {
     "duration": 0.015348,
     "end_time": "2022-12-19T01:27:57.727249",
     "exception": false,
     "start_time": "2022-12-19T01:27:57.711901",
     "status": "completed"
    },
    "tags": []
   },
   "outputs": [],
   "source": [
    "import torch\n",
    "import pandas as pd\n",
    "import numpy as np\n",
    "from torch.utils.data import Dataset, DataLoader\n",
    "from torchvision import transforms\n",
    "from PIL import Image\n",
    "\n",
    "#建立自己的dataset train_data\n",
    "class MyDataset(Dataset):\n",
    "    def __init__(self, image_path: list, image_class: list, transform=None):\n",
    "        self.image_path = image_path\n",
    "        self.image_class = image_class\n",
    "        self.transform = transform\n",
    "\n",
    "    def __len__(self):\n",
    "        return len(self.image_path)\n",
    "\n",
    "    def __getitem__(self, item):\n",
    "        img = Image.open(self.image_path[item]).convert('RGB')\n",
    "#         if img.mode != 'RGB':\n",
    "#             raise ValueError(\"image: {} isn't RGB mode\".format(self.image_path[item]))\n",
    "        label = self.image_class[item]\n",
    "\n",
    "        if self.transform is not None:\n",
    "            img = self.transform(img)\n",
    "\n",
    "        return img, label"
   ]
  },
  {
   "cell_type": "code",
   "execution_count": 4,
   "id": "825fb457",
   "metadata": {
    "execution": {
     "iopub.execute_input": "2022-12-19T01:27:57.735539Z",
     "iopub.status.busy": "2022-12-19T01:27:57.735130Z",
     "iopub.status.idle": "2022-12-19T01:28:08.300030Z",
     "shell.execute_reply": "2022-12-19T01:28:08.298513Z"
    },
    "papermill": {
     "duration": 10.572886,
     "end_time": "2022-12-19T01:28:08.303540",
     "exception": false,
     "start_time": "2022-12-19T01:27:57.730654",
     "status": "completed"
    },
    "tags": []
   },
   "outputs": [
    {
     "name": "stdout",
     "output_type": "stream",
     "text": [
      "<torch.utils.data.dataloader.DataLoader object at 0x7f5375593dd0>\n",
      "<torch.utils.data.dataloader.DataLoader object at 0x7f53755931d0>\n"
     ]
    }
   ],
   "source": [
    "import os\n",
    "import pandas as pd\n",
    "from PIL import Image\n",
    "from sklearn.model_selection import train_test_split\n",
    "from torch.autograd import Variable\n",
    "\n",
    "epoch_num=20\n",
    "batch_size=32\n",
    "lr=0.0003\n",
    "path_photo='../input/bitmoji-faces-gender-recognition/BitmojiDataset/trainimages'\n",
    "path_label='../input/bitmoji-faces-gender-recognition/train.csv'\n",
    "\n",
    "transform = transforms.Compose([\n",
    "    transforms.ToTensor(),\n",
    "    transforms.Resize((224, 224))\n",
    "])\n",
    "\n",
    "# temp_name = os.listdir(path_photo)\n",
    "df=pd.read_csv(path_label)\n",
    "image_path=[]\n",
    "label_path = []\n",
    "for dir in os.listdir(path_photo):\n",
    "#     print(dir)\n",
    "    image_path.append(path_photo+'/'+str(dir))\n",
    "    # 得到所有图片label\n",
    "    if df[df.image_id == dir].iloc[0, 1]==-1:\n",
    "        label_path.append(0)\n",
    "    else:\n",
    "        label_path.append(df[df.image_id == dir].iloc[0, 1])\n",
    "\n",
    "image_path=np.array(image_path)\n",
    "label_path=np.array(label_path)\n",
    "\n",
    "train_path,val_path,train_label,val_label=train_test_split(image_path,label_path,test_size=0.2,random_state=1)\n",
    "# print(len(train_path),len(val_path))\n",
    "train_data=MyDataset(train_path,train_label,transform)\n",
    "val_data=MyDataset(val_path,val_label,transform)\n",
    "train_loader = DataLoader(train_data, batch_size, shuffle=False)\n",
    "val_loader = DataLoader(val_data, batch_size,shuffle=False)\n",
    "print(train_loader)\n",
    "print(val_loader)"
   ]
  },
  {
   "cell_type": "code",
   "execution_count": 5,
   "id": "43d1756f",
   "metadata": {
    "execution": {
     "iopub.execute_input": "2022-12-19T01:28:08.312482Z",
     "iopub.status.busy": "2022-12-19T01:28:08.311651Z",
     "iopub.status.idle": "2022-12-19T01:28:08.521706Z",
     "shell.execute_reply": "2022-12-19T01:28:08.519898Z"
    },
    "papermill": {
     "duration": 0.217449,
     "end_time": "2022-12-19T01:28:08.524455",
     "exception": false,
     "start_time": "2022-12-19T01:28:08.307006",
     "status": "completed"
    },
    "tags": []
   },
   "outputs": [
    {
     "name": "stdout",
     "output_type": "stream",
     "text": [
      "10309430\n"
     ]
    }
   ],
   "source": [
    "net=GoogLeNet(num_classes=2, aux_logits=True, init_weights=True)\n",
    "if torch.cuda.is_available():\n",
    "    net=net.cuda()\n",
    "# 参数量\n",
    "n_p=sum(x.numel() for x in net.parameters())\n",
    "print(n_p)\n"
   ]
  },
  {
   "cell_type": "code",
   "execution_count": 6,
   "id": "21561c57",
   "metadata": {
    "execution": {
     "iopub.execute_input": "2022-12-19T01:28:08.533487Z",
     "iopub.status.busy": "2022-12-19T01:28:08.533023Z",
     "iopub.status.idle": "2022-12-19T01:28:08.539976Z",
     "shell.execute_reply": "2022-12-19T01:28:08.538695Z"
    },
    "papermill": {
     "duration": 0.014474,
     "end_time": "2022-12-19T01:28:08.542575",
     "exception": false,
     "start_time": "2022-12-19T01:28:08.528101",
     "status": "completed"
    },
    "tags": []
   },
   "outputs": [],
   "source": [
    "criterion=nn.CrossEntropyLoss()\n",
    "optimizer=optim.Adam(net.parameters(), lr=lr) "
   ]
  },
  {
   "cell_type": "code",
   "execution_count": 7,
   "id": "ce169440",
   "metadata": {
    "execution": {
     "iopub.execute_input": "2022-12-19T01:28:08.551490Z",
     "iopub.status.busy": "2022-12-19T01:28:08.551004Z",
     "iopub.status.idle": "2022-12-19T03:10:50.683564Z",
     "shell.execute_reply": "2022-12-19T03:10:50.682335Z"
    },
    "papermill": {
     "duration": 6162.145585,
     "end_time": "2022-12-19T03:10:50.691778",
     "exception": false,
     "start_time": "2022-12-19T01:28:08.546193",
     "status": "completed"
    },
    "tags": []
   },
   "outputs": [
    {
     "name": "stdout",
     "output_type": "stream",
     "text": [
      "start training!\n"
     ]
    },
    {
     "name": "stderr",
     "output_type": "stream",
     "text": [
      "/opt/conda/lib/python3.7/site-packages/torch/nn/functional.py:780: UserWarning: Note that order of the arguments: ceil_mode and return_indices will changeto match the args list in nn.MaxPool2d in a future release.\n",
      "  warnings.warn(\"Note that order of the arguments: ceil_mode and return_indices will change\"\n"
     ]
    },
    {
     "name": "stdout",
     "output_type": "stream",
     "text": [
      "epoch: 0, loss: 0.2672 Acc: 0.665000\n",
      "epoch: 1, loss: 0.07861 Acc: 0.797292\n",
      "epoch: 2, loss: 0.1401 Acc: 0.851250\n",
      "epoch: 3, loss: 0.3293 Acc: 0.876354\n",
      "epoch: 4, loss: 0.0559 Acc: 0.897583\n",
      "epoch: 5, loss: 0.008678 Acc: 0.913472\n",
      "epoch: 6, loss: 0.001731 Acc: 0.924762\n",
      "epoch: 7, loss: 0.05233 Acc: 0.933854\n",
      "epoch: 8, loss: 0.0007975 Acc: 0.941157\n",
      "epoch: 9, loss: 0.0001342 Acc: 0.947042\n",
      "epoch: 10, loss: 5.144e-05 Acc: 0.951856\n",
      "epoch: 11, loss: 0.0003765 Acc: 0.955868\n",
      "epoch: 12, loss: 0.0005764 Acc: 0.959263\n",
      "epoch: 13, loss: 0.0001176 Acc: 0.962173\n",
      "epoch: 14, loss: 5.516e-05 Acc: 0.964694\n",
      "epoch: 15, loss: 5.745e-05 Acc: 0.966901\n",
      "epoch: 16, loss: 7.218e-05 Acc: 0.968848\n",
      "epoch: 17, loss: 2.569e-05 Acc: 0.970579\n",
      "epoch: 18, loss: 4.991e-05 Acc: 0.972127\n",
      "epoch: 19, loss: 1.965e-05 Acc: 0.973521\n",
      "6162.029001235962\n",
      "train over!\n"
     ]
    }
   ],
   "source": [
    "# 训练\n",
    "import time\n",
    "# iter=0\n",
    "loss=0\n",
    "acc=0\n",
    "n=0\n",
    "print('start training!')\n",
    "start=time.time()\n",
    "for epoch in range(epoch_num):\n",
    "    for img,label in train_loader:\n",
    "        # 将数据移到GPU上\n",
    "        if torch.cuda.is_available():\n",
    "            img, label = img.cuda(), label.cuda()\n",
    "        # 先将optimizer梯度先置为0\n",
    "        optimizer.zero_grad()\n",
    "        out,aux_out1,aux_out2=net(img)\n",
    "        # 计算loss,图的终点处\n",
    "        loss0=criterion(out,label)\n",
    "        loss1=criterion(aux_out1,label)\n",
    "        loss2=criterion(aux_out2,label)\n",
    "        loss=loss0+loss1*0.3+loss2*0.3\n",
    "\n",
    "#         反向传播\n",
    "        loss.backward()\n",
    "        # 更新参数\n",
    "        optimizer.step()\n",
    "        prect =out.argmax(1)\n",
    "        num_correct=(prect==label).sum()\n",
    "        acc+=num_correct.item()\n",
    "        n+=label.shape[0]\n",
    "    print('epoch: {}, loss: {:.4} Acc: {:.6f}'.format(epoch, loss.data.item(),acc / n))\n",
    "\n",
    "start= time.time()-start\n",
    "print(start)\n",
    "print(\"train over!\")\n",
    "if not os.path.exists('./model_save'):\n",
    "    os.mkdir('./model_save')\n",
    "torch.save(net.state_dict,os.path.join('./model_save/','epoch_{}_.pth'.format(epoch+1)))\n",
    "#     if (epoch%50 == 0) & (epoch != 0):\n",
    "#         i = epoch/50\n",
    "#         torch.save(model, 'AlexNet%03d.pth'% i)"
   ]
  },
  {
   "cell_type": "code",
   "execution_count": 8,
   "id": "77ae7ba9",
   "metadata": {
    "execution": {
     "iopub.execute_input": "2022-12-19T03:10:50.704224Z",
     "iopub.status.busy": "2022-12-19T03:10:50.703201Z",
     "iopub.status.idle": "2022-12-19T03:11:35.877535Z",
     "shell.execute_reply": "2022-12-19T03:11:35.876624Z"
    },
    "papermill": {
     "duration": 45.188584,
     "end_time": "2022-12-19T03:11:35.885287",
     "exception": false,
     "start_time": "2022-12-19T03:10:50.696703",
     "status": "completed"
    },
    "tags": []
   },
   "outputs": [
    {
     "name": "stdout",
     "output_type": "stream",
     "text": [
      "Test Loss: 0.000395, Acc: 1.000000\n"
     ]
    }
   ],
   "source": [
    "import torch\n",
    "# 模型评估\n",
    "net.eval()\n",
    "eval_loss=0\n",
    "eval_acc=0\n",
    "for img,label in val_loader:\n",
    "    if torch.cuda.is_available():\n",
    "        img=img.cuda()\n",
    "        label=label.cuda()\n",
    "    out=net(img)\n",
    "    loss=criterion(out,label)\n",
    "    eval_loss+=loss.item()*label.size(0)\n",
    "    prect =out.argmax(1)\n",
    "    num_correct=(prect==label).sum()\n",
    "    eval_acc+=num_correct.item()\n",
    "print('Test Loss: {:.6f}, Acc: {:.6f}'.format(eval_loss / (len(val_data)), eval_acc / (len(val_data))))\n",
    "\n",
    "    "
   ]
  },
  {
   "cell_type": "code",
   "execution_count": 9,
   "id": "c24bb4ac",
   "metadata": {
    "execution": {
     "iopub.execute_input": "2022-12-19T03:11:35.897349Z",
     "iopub.status.busy": "2022-12-19T03:11:35.896658Z",
     "iopub.status.idle": "2022-12-19T03:13:09.516346Z",
     "shell.execute_reply": "2022-12-19T03:13:09.515154Z"
    },
    "papermill": {
     "duration": 93.633382,
     "end_time": "2022-12-19T03:13:09.523601",
     "exception": false,
     "start_time": "2022-12-19T03:11:35.890219",
     "status": "completed"
    },
    "tags": []
   },
   "outputs": [
    {
     "name": "stderr",
     "output_type": "stream",
     "text": [
      "/opt/conda/lib/python3.7/site-packages/pandas/core/indexing.py:1732: SettingWithCopyWarning: \n",
      "A value is trying to be set on a copy of a slice from a DataFrame\n",
      "\n",
      "See the caveats in the documentation: https://pandas.pydata.org/pandas-docs/stable/user_guide/indexing.html#returning-a-view-versus-a-copy\n",
      "  self._setitem_single_block(indexer, value, name)\n"
     ]
    },
    {
     "name": "stdout",
     "output_type": "stream",
     "text": [
      "      image_id is_male\n",
      "0     3000.jpg      -1\n",
      "1     3001.jpg      -1\n",
      "2     3002.jpg      -1\n",
      "3     3003.jpg       1\n",
      "4     3004.jpg      -1\n",
      "...        ...     ...\n",
      "1079  4079.jpg      -1\n",
      "1080  4080.jpg       1\n",
      "1081  4081.jpg       1\n",
      "1082  4082.jpg      -1\n",
      "1083  4083.jpg       1\n",
      "\n",
      "[1084 rows x 2 columns]\n",
      "test_over!\n"
     ]
    }
   ],
   "source": [
    "# 测试\n",
    "import torch\n",
    "import pandas as pd\n",
    "testimg_path='../input/bitmoji-faces-gender-recognition/BitmojiDataset/testimages'\n",
    "submission_path='../input/bitmoji-faces-gender-recognition/sample_submission.csv'\n",
    "\n",
    "cnt=0\n",
    "test_df=pd.read_csv(submission_path)\n",
    "transform = transforms.Compose([\n",
    "    transforms.ToTensor(),\n",
    "    transforms.Resize((224, 224))\n",
    "])\n",
    "\n",
    "# net.eval()\n",
    "with torch.no_grad():\n",
    "    parent_list=os.listdir(testimg_path)\n",
    "    parent_list.sort()\n",
    "#     print(parent_list)\n",
    "    for img_name in parent_list:\n",
    "        img_path = os.path.join(testimg_path, img_name)\n",
    "        img = Image.open(img_path).convert('RGB')\n",
    "        img = transform(img)\n",
    "        if torch.cuda.is_available():\n",
    "            img=img.cuda()\n",
    "        img = img.unsqueeze(0)\n",
    "        prect = int(net(img).argmax(1))\n",
    "        if prect==0:\n",
    "            prect=-1\n",
    "#         print(prect)\n",
    "        test_df['is_male'].iloc[cnt:cnt+1]=str(prect)\n",
    "        cnt+=1\n",
    "# test_df.iloc[:,1:2]\n",
    "print(test_df)    \n",
    "test_df.to_csv('./sample_submission.csv',index=False,header=True)\n",
    "print('test_over!')"
   ]
  }
 ],
 "metadata": {
  "kernelspec": {
   "display_name": "Python 3",
   "language": "python",
   "name": "python3"
  },
  "language_info": {
   "codemirror_mode": {
    "name": "ipython",
    "version": 3
   },
   "file_extension": ".py",
   "mimetype": "text/x-python",
   "name": "python",
   "nbconvert_exporter": "python",
   "pygments_lexer": "ipython3",
   "version": "3.7.12"
  },
  "papermill": {
   "default_parameters": {},
   "duration": 6324.916461,
   "end_time": "2022-12-19T03:13:10.762321",
   "environment_variables": {},
   "exception": null,
   "input_path": "__notebook__.ipynb",
   "output_path": "__notebook__.ipynb",
   "parameters": {},
   "start_time": "2022-12-19T01:27:45.845860",
   "version": "2.3.4"
  }
 },
 "nbformat": 4,
 "nbformat_minor": 5
}
